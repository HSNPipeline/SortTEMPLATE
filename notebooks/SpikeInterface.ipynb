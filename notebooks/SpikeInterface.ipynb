{
 "cells": [
  {
   "cell_type": "code",
   "execution_count": 1,
   "id": "df3d5816",
   "metadata": {},
   "outputs": [],
   "source": [
    "import spikeinterface"
   ]
  },
  {
   "cell_type": "code",
   "execution_count": 3,
   "id": "e705ef90",
   "metadata": {},
   "outputs": [],
   "source": [
    "#spikeinterface.sorters.available_sorters()"
   ]
  },
  {
   "cell_type": "code",
   "execution_count": 4,
   "id": "590b874c",
   "metadata": {},
   "outputs": [
    {
     "data": {
      "text/plain": [
       "'0.90.1'"
      ]
     },
     "execution_count": 4,
     "metadata": {},
     "output_type": "execute_result"
    }
   ],
   "source": [
    "spikeinterface.__version__"
   ]
  },
  {
   "cell_type": "code",
   "execution_count": 5,
   "id": "b261cea1",
   "metadata": {},
   "outputs": [
    {
     "data": {
      "text/plain": [
       "['AppendSegmentRecording',\n",
       " 'AppendSegmentSorting',\n",
       " 'BaseEvent',\n",
       " 'BaseEventSegment',\n",
       " 'BaseRecording',\n",
       " 'BaseRecordingSegment',\n",
       " 'BaseSorting',\n",
       " 'BaseSortingSegment',\n",
       " 'BinaryRecordingExtractor',\n",
       " 'ChannelSliceRecording',\n",
       " 'ChunkRecordingExecutor',\n",
       " 'ConcatenateSegmentRecording',\n",
       " 'FrameSliceRecording',\n",
       " 'NpzSortingExtractor',\n",
       " 'NumpyEvent',\n",
       " 'NumpyRecording',\n",
       " 'NumpySorting',\n",
       " 'UnitsSelectionSorting',\n",
       " 'WaveformExtractor',\n",
       " '__builtins__',\n",
       " '__cached__',\n",
       " '__doc__',\n",
       " '__file__',\n",
       " '__loader__',\n",
       " '__name__',\n",
       " '__package__',\n",
       " '__path__',\n",
       " '__spec__',\n",
       " '__version__',\n",
       " 'append_recordings',\n",
       " 'append_sortings',\n",
       " 'base',\n",
       " 'baseevent',\n",
       " 'baserecording',\n",
       " 'basesorting',\n",
       " 'binaryrecordingextractor',\n",
       " 'channelslicerecording',\n",
       " 'concatenate_recordings',\n",
       " 'core',\n",
       " 'core_tools',\n",
       " 'datasets',\n",
       " 'default_folders',\n",
       " 'download_dataset',\n",
       " 'ensure_chunk_size',\n",
       " 'ensure_n_jobs',\n",
       " 'extract_waveforms',\n",
       " 'frameslicerecording',\n",
       " 'get_global_dataset_folder',\n",
       " 'get_global_tmp_folder',\n",
       " 'is_set_global_dataset_folder',\n",
       " 'is_set_global_tmp_folder',\n",
       " 'job_tools',\n",
       " 'load_extractor',\n",
       " 'npzsortingextractor',\n",
       " 'numpyextractors',\n",
       " 'read_binary',\n",
       " 'read_npz_sorting',\n",
       " 'read_python',\n",
       " 'reset_global_tmp_folder',\n",
       " 'segmentutils',\n",
       " 'set_global_dataset_folder',\n",
       " 'set_global_tmp_folder',\n",
       " 'unitsselectionsorting',\n",
       " 'version',\n",
       " 'waveform_extractor',\n",
       " 'write_binary_recording',\n",
       " 'write_python',\n",
       " 'write_to_h5_dataset_format']"
      ]
     },
     "execution_count": 5,
     "metadata": {},
     "output_type": "execute_result"
    }
   ],
   "source": [
    "dir(spikeinterface)"
   ]
  },
  {
   "cell_type": "code",
   "execution_count": 6,
   "id": "e6cd4ac1",
   "metadata": {},
   "outputs": [
    {
     "data": {
      "text/plain": [
       "'0.90.1'"
      ]
     },
     "execution_count": 6,
     "metadata": {},
     "output_type": "execute_result"
    }
   ],
   "source": [
    "spikeinterface.version.version"
   ]
  },
  {
   "cell_type": "code",
   "execution_count": 11,
   "id": "1b531273",
   "metadata": {},
   "outputs": [],
   "source": [
    "import spikeinterface as si  # import core only\n",
    "import spikeinterface.extractors as se\n",
    "import spikeinterface.toolkit as st\n",
    "import spikeinterface.sorters as ss\n",
    "import spikeinterface.comparison as sc\n",
    "import spikeinterface.widgets as sw"
   ]
  },
  {
   "cell_type": "code",
   "execution_count": 12,
   "id": "5c754ced",
   "metadata": {},
   "outputs": [
    {
     "data": {
      "text/plain": [
       "['combinato',\n",
       " 'hdsort',\n",
       " 'herdingspikes',\n",
       " 'ironclust',\n",
       " 'kilosort',\n",
       " 'kilosort2',\n",
       " 'kilosort2_5',\n",
       " 'kilosort3',\n",
       " 'klusta',\n",
       " 'mountainsort4',\n",
       " 'pykilosort',\n",
       " 'spykingcircus',\n",
       " 'tridesclous',\n",
       " 'waveclus',\n",
       " 'yass']"
      ]
     },
     "execution_count": 12,
     "metadata": {},
     "output_type": "execute_result"
    }
   ],
   "source": [
    "ss.available_sorters()"
   ]
  },
  {
   "cell_type": "code",
   "execution_count": 16,
   "id": "fac8d103",
   "metadata": {},
   "outputs": [
    {
     "name": "stdout",
     "output_type": "stream",
     "text": [
      "Setting COMBINATO_PATH environment variable for subprocess calls to: /Users/tom/Desktop/temp/combinato\n"
     ]
    }
   ],
   "source": [
    "ss.CombinatoSorter.set_combinato_path('/Users/tom/Desktop/temp/combinato')"
   ]
  },
  {
   "cell_type": "code",
   "execution_count": 18,
   "id": "ed025265",
   "metadata": {},
   "outputs": [
    {
     "ename": "ValueError",
     "evalue": "recording must be a Recording!!",
     "output_type": "error",
     "traceback": [
      "\u001b[0;31m---------------------------------------------------------------------------\u001b[0m",
      "\u001b[0;31mValueError\u001b[0m                                Traceback (most recent call last)",
      "\u001b[0;32m/var/folders/59/8y2d5r257c77vzymnqs47x080000gn/T/ipykernel_23761/4015969805.py\u001b[0m in \u001b[0;36m<module>\u001b[0;34m\u001b[0m\n\u001b[0;32m----> 1\u001b[0;31m \u001b[0mss\u001b[0m\u001b[0;34m.\u001b[0m\u001b[0mrun_combinato\u001b[0m\u001b[0;34m(\u001b[0m\u001b[0;34m'combinato'\u001b[0m\u001b[0;34m)\u001b[0m\u001b[0;34m\u001b[0m\u001b[0;34m\u001b[0m\u001b[0m\n\u001b[0m",
      "\u001b[0;32m~/opt/anaconda3/envs/spikes/lib/python3.7/site-packages/spikeinterface/sorters/runsorter.py\u001b[0m in \u001b[0;36mrun_combinato\u001b[0;34m(*args, **kwargs)\u001b[0m\n\u001b[1;32m    355\u001b[0m \u001b[0;34m\u001b[0m\u001b[0m\n\u001b[1;32m    356\u001b[0m \u001b[0;32mdef\u001b[0m \u001b[0mrun_combinato\u001b[0m\u001b[0;34m(\u001b[0m\u001b[0;34m*\u001b[0m\u001b[0margs\u001b[0m\u001b[0;34m,\u001b[0m \u001b[0;34m**\u001b[0m\u001b[0mkwargs\u001b[0m\u001b[0;34m)\u001b[0m\u001b[0;34m:\u001b[0m\u001b[0;34m\u001b[0m\u001b[0;34m\u001b[0m\u001b[0m\n\u001b[0;32m--> 357\u001b[0;31m     \u001b[0;32mreturn\u001b[0m \u001b[0mrun_sorter\u001b[0m\u001b[0;34m(\u001b[0m\u001b[0;34m'combinato'\u001b[0m\u001b[0;34m,\u001b[0m \u001b[0;34m*\u001b[0m\u001b[0margs\u001b[0m\u001b[0;34m,\u001b[0m \u001b[0;34m**\u001b[0m\u001b[0mkwargs\u001b[0m\u001b[0;34m)\u001b[0m\u001b[0;34m\u001b[0m\u001b[0;34m\u001b[0m\u001b[0m\n\u001b[0m\u001b[1;32m    358\u001b[0m \u001b[0;34m\u001b[0m\u001b[0m\n\u001b[1;32m    359\u001b[0m \u001b[0;34m\u001b[0m\u001b[0m\n",
      "\u001b[0;32m~/opt/anaconda3/envs/spikes/lib/python3.7/site-packages/spikeinterface/sorters/runsorter.py\u001b[0m in \u001b[0;36mrun_sorter\u001b[0;34m(sorter_name, recording, output_folder, remove_existing_folder, delete_output_folder, verbose, raise_error, docker_image, **sorter_params)\u001b[0m\n\u001b[1;32m     57\u001b[0m                                    \u001b[0mremove_existing_folder\u001b[0m\u001b[0;34m=\u001b[0m\u001b[0mremove_existing_folder\u001b[0m\u001b[0;34m,\u001b[0m\u001b[0;34m\u001b[0m\u001b[0;34m\u001b[0m\u001b[0m\n\u001b[1;32m     58\u001b[0m                                    \u001b[0mdelete_output_folder\u001b[0m\u001b[0;34m=\u001b[0m\u001b[0mdelete_output_folder\u001b[0m\u001b[0;34m,\u001b[0m\u001b[0;34m\u001b[0m\u001b[0;34m\u001b[0m\u001b[0m\n\u001b[0;32m---> 59\u001b[0;31m                                    verbose=verbose, raise_error=raise_error, **sorter_params)\n\u001b[0m\u001b[1;32m     60\u001b[0m     \u001b[0;32melse\u001b[0m\u001b[0;34m:\u001b[0m\u001b[0;34m\u001b[0m\u001b[0;34m\u001b[0m\u001b[0m\n\u001b[1;32m     61\u001b[0m         sorting = run_sorter_docker(sorter_name, recording, docker_image, output_folder=output_folder,\n",
      "\u001b[0;32m~/opt/anaconda3/envs/spikes/lib/python3.7/site-packages/spikeinterface/sorters/runsorter.py\u001b[0m in \u001b[0;36mrun_sorter_local\u001b[0;34m(sorter_name, recording, output_folder, remove_existing_folder, delete_output_folder, verbose, raise_error, **sorter_params)\u001b[0m\n\u001b[1;32m     75\u001b[0m \u001b[0;34m\u001b[0m\u001b[0m\n\u001b[1;32m     76\u001b[0m     \u001b[0;31m# only classmethod call not instance (stateless at instance level but state is in folder)\u001b[0m\u001b[0;34m\u001b[0m\u001b[0;34m\u001b[0m\u001b[0;34m\u001b[0m\u001b[0m\n\u001b[0;32m---> 77\u001b[0;31m     \u001b[0moutput_folder\u001b[0m \u001b[0;34m=\u001b[0m \u001b[0mSorterClass\u001b[0m\u001b[0;34m.\u001b[0m\u001b[0minitialize_folder\u001b[0m\u001b[0;34m(\u001b[0m\u001b[0mrecording\u001b[0m\u001b[0;34m,\u001b[0m \u001b[0moutput_folder\u001b[0m\u001b[0;34m,\u001b[0m \u001b[0mverbose\u001b[0m\u001b[0;34m,\u001b[0m \u001b[0mremove_existing_folder\u001b[0m\u001b[0;34m)\u001b[0m\u001b[0;34m\u001b[0m\u001b[0;34m\u001b[0m\u001b[0m\n\u001b[0m\u001b[1;32m     78\u001b[0m     \u001b[0mSorterClass\u001b[0m\u001b[0;34m.\u001b[0m\u001b[0mset_params_to_folder\u001b[0m\u001b[0;34m(\u001b[0m\u001b[0mrecording\u001b[0m\u001b[0;34m,\u001b[0m \u001b[0moutput_folder\u001b[0m\u001b[0;34m,\u001b[0m \u001b[0msorter_params\u001b[0m\u001b[0;34m,\u001b[0m \u001b[0mverbose\u001b[0m\u001b[0;34m)\u001b[0m\u001b[0;34m\u001b[0m\u001b[0;34m\u001b[0m\u001b[0m\n\u001b[1;32m     79\u001b[0m     \u001b[0mSorterClass\u001b[0m\u001b[0;34m.\u001b[0m\u001b[0msetup_recording\u001b[0m\u001b[0;34m(\u001b[0m\u001b[0mrecording\u001b[0m\u001b[0;34m,\u001b[0m \u001b[0moutput_folder\u001b[0m\u001b[0;34m,\u001b[0m \u001b[0mverbose\u001b[0m\u001b[0;34m=\u001b[0m\u001b[0mverbose\u001b[0m\u001b[0;34m)\u001b[0m\u001b[0;34m\u001b[0m\u001b[0;34m\u001b[0m\u001b[0m\n",
      "\u001b[0;32m~/opt/anaconda3/envs/spikes/lib/python3.7/site-packages/spikeinterface/sorters/basesorter.py\u001b[0m in \u001b[0;36minitialize_folder\u001b[0;34m(cls, recording, output_folder, verbose, remove_existing_folder)\u001b[0m\n\u001b[1;32m     81\u001b[0m \u001b[0;34m\u001b[0m\u001b[0m\n\u001b[1;32m     82\u001b[0m         \u001b[0;32mif\u001b[0m \u001b[0;32mnot\u001b[0m \u001b[0misinstance\u001b[0m\u001b[0;34m(\u001b[0m\u001b[0mrecording\u001b[0m\u001b[0;34m,\u001b[0m \u001b[0mBaseRecording\u001b[0m\u001b[0;34m)\u001b[0m\u001b[0;34m:\u001b[0m\u001b[0;34m\u001b[0m\u001b[0;34m\u001b[0m\u001b[0m\n\u001b[0;32m---> 83\u001b[0;31m             \u001b[0;32mraise\u001b[0m \u001b[0mValueError\u001b[0m\u001b[0;34m(\u001b[0m\u001b[0;34m'recording must be a Recording!!'\u001b[0m\u001b[0;34m)\u001b[0m\u001b[0;34m\u001b[0m\u001b[0;34m\u001b[0m\u001b[0m\n\u001b[0m\u001b[1;32m     84\u001b[0m \u001b[0;34m\u001b[0m\u001b[0m\n\u001b[1;32m     85\u001b[0m         \u001b[0;32mif\u001b[0m \u001b[0mcls\u001b[0m\u001b[0;34m.\u001b[0m\u001b[0mrequires_locations\u001b[0m\u001b[0;34m:\u001b[0m\u001b[0;34m\u001b[0m\u001b[0;34m\u001b[0m\u001b[0m\n",
      "\u001b[0;31mValueError\u001b[0m: recording must be a Recording!!"
     ]
    }
   ],
   "source": [
    "ss.run_combinato('combinato')"
   ]
  },
  {
   "cell_type": "code",
   "execution_count": null,
   "id": "d8a9bd50",
   "metadata": {},
   "outputs": [],
   "source": []
  }
 ],
 "metadata": {
  "kernelspec": {
   "display_name": "Python 3 (ipykernel)",
   "language": "python",
   "name": "python3"
  },
  "language_info": {
   "codemirror_mode": {
    "name": "ipython",
    "version": 3
   },
   "file_extension": ".py",
   "mimetype": "text/x-python",
   "name": "python",
   "nbconvert_exporter": "python",
   "pygments_lexer": "ipython3",
   "version": "3.7.11"
  }
 },
 "nbformat": 4,
 "nbformat_minor": 5
}
