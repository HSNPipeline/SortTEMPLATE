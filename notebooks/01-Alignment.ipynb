{
 "cells": [
  {
   "cell_type": "markdown",
   "id": "89083056",
   "metadata": {},
   "source": [
    "# Alignment "
   ]
  },
  {
   "cell_type": "code",
   "execution_count": null,
   "id": "e73a064c",
   "metadata": {},
   "outputs": [],
   "source": [
    "from hsntools.paths import Paths"
   ]
  },
  {
   "cell_type": "code",
   "execution_count": null,
   "id": "ad4094ac",
   "metadata": {},
   "outputs": [],
   "source": [
    "# Add local folder with `sort` module\n",
    "import sys\n",
    "sys.path.append('..')\n",
    "..."
   ]
  },
  {
   "cell_type": "markdown",
   "id": "5d68a103",
   "metadata": {},
   "source": [
    "## Settings"
   ]
  },
  {
   "cell_type": "code",
   "execution_count": null,
   "id": "b13d952c",
   "metadata": {},
   "outputs": [],
   "source": [
    "# Set the project path\n",
    "project_path = '/data12/jacobs_lab/BAU01'"
   ]
  },
  {
   "cell_type": "code",
   "execution_count": null,
   "id": "efaed157",
   "metadata": {},
   "outputs": [],
   "source": [
    "# Set session information\n",
    "SESSION = {\n",
    "    'experiment' : 'XX',\n",
    "    'subject' : 'XX',\n",
    "    'session' : 0,\n",
    "}"
   ]
  },
  {
   "cell_type": "code",
   "execution_count": null,
   "id": "d3b4bda6",
   "metadata": {},
   "outputs": [],
   "source": [
    "# Create database structure for the current file\n",
    "paths = Paths(project_path, **SESSION)"
   ]
  },
  {
   "cell_type": "code",
   "execution_count": null,
   "id": "7e3464bf",
   "metadata": {},
   "outputs": [],
   "source": [
    "# Notebook settings\n",
    "SAVE_OUT = False"
   ]
  },
  {
   "cell_type": "markdown",
   "id": "4df6eb56",
   "metadata": {},
   "source": [
    "## Load Data"
   ]
  },
  {
   "cell_type": "code",
   "execution_count": null,
   "id": "b01e8c24",
   "metadata": {},
   "outputs": [],
   "source": [
    "..."
   ]
  },
  {
   "cell_type": "markdown",
   "id": "43842282",
   "metadata": {},
   "source": [
    "## Get & Check Data"
   ]
  },
  {
   "cell_type": "code",
   "execution_count": null,
   "id": "03059bc6",
   "metadata": {},
   "outputs": [],
   "source": [
    "..."
   ]
  },
  {
   "cell_type": "markdown",
   "id": "180ba0f4",
   "metadata": {},
   "source": [
    "## Save Out"
   ]
  },
  {
   "cell_type": "code",
   "execution_count": null,
   "id": "97a108f3",
   "metadata": {},
   "outputs": [],
   "source": [
    "..."
   ]
  }
 ],
 "metadata": {
  "kernelspec": {
   "display_name": "Python 3 (ipykernel)",
   "language": "python",
   "name": "python3"
  },
  "language_info": {
   "codemirror_mode": {
    "name": "ipython",
    "version": 3
   },
   "file_extension": ".py",
   "mimetype": "text/x-python",
   "name": "python",
   "nbconvert_exporter": "python",
   "pygments_lexer": "ipython3",
   "version": "3.8.3"
  }
 },
 "nbformat": 4,
 "nbformat_minor": 5
}
