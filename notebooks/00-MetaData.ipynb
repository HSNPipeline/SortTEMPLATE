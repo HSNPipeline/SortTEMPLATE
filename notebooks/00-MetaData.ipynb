{
 "cells": [
  {
   "cell_type": "markdown",
   "id": "24b714fc",
   "metadata": {},
   "source": [
    "# Electrode Information\n",
    "\n",
    "Grab relevant metadata, such as relevant channels."
   ]
  },
  {
   "cell_type": "code",
   "execution_count": null,
   "id": "5e8cb8c4",
   "metadata": {},
   "outputs": [],
   "source": [
    " from hsntools.paths import Paths"
   ]
  },
  {
   "cell_type": "code",
   "execution_count": null,
   "id": "aa8d7595",
   "metadata": {},
   "outputs": [],
   "source": [
    "# Add local folder with `sort` module\n",
    "import sys\n",
    "sys.path.append('..')\n",
    "from sort.channels import process_channels"
   ]
  },
  {
   "cell_type": "markdown",
   "id": "8f4d1731",
   "metadata": {},
   "source": [
    "## Paths & Files"
   ]
  },
  {
   "cell_type": "code",
   "execution_count": null,
   "id": "dd2c6672",
   "metadata": {},
   "outputs": [],
   "source": [
    "# Set the project path\n",
    "project_path = '/data12/jacobs_lab/BAU01'"
   ]
  },
  {
   "cell_type": "code",
   "execution_count": null,
   "id": "5ab1ffde",
   "metadata": {},
   "outputs": [],
   "source": [
    "# Define site\n",
    "site = 'XX'"
   ]
  },
  {
   "cell_type": "code",
   "execution_count": null,
   "id": "06afaef0",
   "metadata": {},
   "outputs": [],
   "source": [
    "# Set session information\n",
    "SESSION = {\n",
    "    'subject' : ...,\n",
    "    'experiment' : 'T3',\n",
    "    'session' : 0,\n",
    "}"
   ]
  },
  {
   "cell_type": "markdown",
   "id": "b4f7cc28",
   "metadata": {},
   "source": [
    "## Settings"
   ]
  },
  {
   "cell_type": "code",
   "execution_count": null,
   "id": "1423ba39",
   "metadata": {},
   "outputs": [],
   "source": [
    "# Set session information\n",
    "SESSION = {\n",
    "    'subject' : ...,\n",
    "    'experiment' : 'T3',\n",
    "    'session' : 0,\n",
    "}"
   ]
  },
  {
   "cell_type": "code",
   "execution_count": null,
   "id": "3ff7e79b",
   "metadata": {},
   "outputs": [],
   "source": [
    "# Create database structure for the current file\n",
    "paths = Paths(project_path, **SESSION)"
   ]
  },
  {
   "cell_type": "code",
   "execution_count": null,
   "id": "ef133011",
   "metadata": {},
   "outputs": [],
   "source": [
    "# Notebook settings\n",
    "SAVE_OUT = False"
   ]
  },
  {
   "cell_type": "code",
   "execution_count": null,
   "id": "087984a8",
   "metadata": {},
   "outputs": [],
   "source": [
    "# Check session to load\n",
    "SESSION"
   ]
  },
  {
   "cell_type": "markdown",
   "id": "978e873f",
   "metadata": {},
   "source": [
    "## Load"
   ]
  },
  {
   "cell_type": "code",
   "execution_count": null,
   "id": "8c58ef93",
   "metadata": {},
   "outputs": [],
   "source": [
    "# Load site-specific metadata information\n",
    "metadata = load_config(..., '../metadata')"
   ]
  },
  {
   "cell_type": "code",
   "execution_count": null,
   "id": "2d5eb363",
   "metadata": {},
   "outputs": [],
   "source": [
    "# Load the electrodes information from file\n",
    "electrodes_data = ..."
   ]
  },
  {
   "cell_type": "markdown",
   "id": "7cef5c05",
   "metadata": {},
   "source": [
    "## Process"
   ]
  },
  {
   "cell_type": "code",
   "execution_count": null,
   "id": "5666588b",
   "metadata": {},
   "outputs": [],
   "source": [
    "# Process channel names info\n",
    "electrodes = process_channels(...)"
   ]
  },
  {
   "cell_type": "code",
   "execution_count": null,
   "id": "10c0f2b3",
   "metadata": {},
   "outputs": [],
   "source": [
    "# Check the dataframe representation of the electrodes\n",
    "electrodes.to_dataframe()"
   ]
  },
  {
   "cell_type": "markdown",
   "id": "db63dc87",
   "metadata": {},
   "source": [
    "## Data Checks"
   ]
  },
  {
   "cell_type": "code",
   "execution_count": null,
   "id": "87322872",
   "metadata": {},
   "outputs": [],
   "source": [
    "# Check the set of probe labels\n",
    "probe_labels = electrodes.get('probe')\n",
    "probe_labels"
   ]
  },
  {
   "cell_type": "code",
   "execution_count": null,
   "id": "3065033d",
   "metadata": {},
   "outputs": [],
   "source": [
    "# Check the number of probes\n",
    "n_probes = len(probe_labels)"
   ]
  },
  {
   "cell_type": "code",
   "execution_count": null,
   "id": "298343f6",
   "metadata": {},
   "outputs": [],
   "source": [
    "# Check that number of probes & electrodes line up\n",
    "assert n_probes * 8 == n_electrodes"
   ]
  },
  {
   "cell_type": "code",
   "execution_count": null,
   "id": "5d9b998d",
   "metadata": {},
   "outputs": [],
   "source": [
    "# Check for any missing information\n",
    "for col in ['hemisphere', 'lobe', 'region']:\n",
    "    if 'unknown' in electrodes.to_dataframe()[col].values:\n",
    "        print('Missing data in column: {}'.format(col))"
   ]
  },
  {
   "cell_type": "markdown",
   "id": "04cb1854",
   "metadata": {},
   "source": [
    "## Save Out"
   ]
  },
  {
   "cell_type": "code",
   "execution_count": null,
   "id": "a9d8c789",
   "metadata": {},
   "outputs": [],
   "source": [
    "# Define save out name\n",
    "save_out_name = SESSION['subject']"
   ]
  },
  {
   "cell_type": "code",
   "execution_count": null,
   "id": "96d1985b",
   "metadata": {},
   "outputs": [],
   "source": [
    "# Save out micros electrodes file\n",
    "if SAVE_OUT:\n",
    "    save_object(electrodes, save_out_name, paths.electrodes)"
   ]
  }
 ],
 "metadata": {
  "kernelspec": {
   "display_name": "Python 3 (ipykernel)",
   "language": "python",
   "name": "python3"
  },
  "language_info": {
   "codemirror_mode": {
    "name": "ipython",
    "version": 3
   },
   "file_extension": ".py",
   "mimetype": "text/x-python",
   "name": "python",
   "nbconvert_exporter": "python",
   "pygments_lexer": "ipython3",
   "version": "3.8.3"
  }
 },
 "nbformat": 4,
 "nbformat_minor": 5
}
