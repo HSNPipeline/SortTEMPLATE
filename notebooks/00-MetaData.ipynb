{
 "cells": [
  {
   "cell_type": "markdown",
   "id": "24b714fc",
   "metadata": {},
   "source": [
    "### Electrode Information\n",
    "\n",
    "Grab relevant metadata, such as relevant channels.\n",
    "\n",
    "This differs depending on how the site uploads the channel data....: "
   ]
  },
  {
   "cell_type": "code",
   "execution_count": null,
   "id": "18ea8881",
   "metadata": {},
   "outputs": [],
   "source": [
    "# Load site-specific metadata information\n",
    "metadata = load_config(site.lower(), '../metadata')"
   ]
  },
  {
   "cell_type": "code",
   "execution_count": null,
   "id": "b5d95335",
   "metadata": {},
   "outputs": [],
   "source": [
    "if site == 'Baylor':\n",
    "\n",
    "    file_name = SUBJ['subject'] + '_montage.xlsx'\n",
    "    electrodes = pd.read_excel(data_paths.electrodes / file_name, engine='openpyxl', sheet_name=1) \n",
    "    \n",
    "    # Sub-select channels with 30 Khz sampling rate (these are the microwires)\n",
    "    electrodes = electrodes[electrodes.SamplingRate == '30kHz']\n",
    "\n",
    "    # Grab position information from channel label (TODO: fix this up)\n",
    "    hemi = electrodes.ChannelLabel.apply(lambda x: ''.join([c for c in x if c.isupper()])[0])\n",
    "    lobe = electrodes[electrodes.SamplingRate == '30kHz'].ChannelLabel.apply(lambda x: ''.join([c for c in x if c.isupper()])[1])\n",
    "    region = electrodes.ChannelLabel.apply(lambda x: ''.join([c for c in x if c.isupper()])[-1])\n",
    "\n",
    "    # Convert character codes to full definitions\n",
    "    for key, val in metadata['REGIONS'].items():\n",
    "        region = region.replace(key[0], val)\n",
    "    for key, val in metadata['LOBES'].items():\n",
    "        lobe = lobe.replace(key, val)\n",
    "    for key, val in metadata['HEMISPHERES'].items():\n",
    "        hemi = hemi.replace(key, val)\n",
    "        \n",
    "    # Add extra columns to metadata information\n",
    "    electrodes['channel_region'] = region\n",
    "    electrodes['channel_index'] = electrodes.index \n",
    "    electrodes['hemisphere'] = hemi\n",
    "    electrodes['lobe'] = lobe"
   ]
  },
  {
   "cell_type": "code",
   "execution_count": null,
   "id": "a97480da",
   "metadata": {},
   "outputs": [],
   "source": [
    "# Check the loaded electrodes sheet\n",
    "electrodes.head(5)"
   ]
  },
  {
   "cell_type": "code",
   "execution_count": null,
   "id": "6b600723",
   "metadata": {},
   "outputs": [],
   "source": [
    "# Check the number of micro channels that were found\n",
    "print('Number of micro channels: {}'.format(len(electrodes)))"
   ]
  },
  {
   "cell_type": "code",
   "execution_count": null,
   "id": "01553fb5",
   "metadata": {},
   "outputs": [],
   "source": []
  }
 ],
 "metadata": {
  "kernelspec": {
   "display_name": "Python 3 (ipykernel)",
   "language": "python",
   "name": "python3"
  },
  "language_info": {
   "codemirror_mode": {
    "name": "ipython",
    "version": 3
   },
   "file_extension": ".py",
   "mimetype": "text/x-python",
   "name": "python",
   "nbconvert_exporter": "python",
   "pygments_lexer": "ipython3",
   "version": "3.8.12"
  }
 },
 "nbformat": 4,
 "nbformat_minor": 5
}
