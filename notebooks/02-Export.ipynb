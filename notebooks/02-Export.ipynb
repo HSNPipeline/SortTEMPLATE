{
 "cells": [
  {
   "cell_type": "markdown",
   "id": "2682420c-766c-4a39-a1c5-2191bca40b5a",
   "metadata": {},
   "source": [
    "# Extract Spike Times\n",
    "\n",
    "Code to extract spike times from cluster files and create the 'times_' files. "
   ]
  },
  {
   "cell_type": "code",
   "execution_count": 1,
   "id": "78e02bdd-819c-4134-8694-f033f700eaa3",
   "metadata": {},
   "outputs": [],
   "source": [
    "import os\n",
    "\n",
    "import h5py\n",
    "import numpy as np"
   ]
  },
  {
   "cell_type": "code",
   "execution_count": 2,
   "id": "345d3cbf-d558-4237-90d4-b458aee8354a",
   "metadata": {},
   "outputs": [],
   "source": [
    "import sys\n",
    "conv_path = '/home1/tom.donoghue/repos/convnwb'\n",
    "sys.path.append(conv_path)\n",
    "from convnwb.io import get_files\n",
    "from convnwb.session import SDB"
   ]
  },
  {
   "cell_type": "markdown",
   "id": "d7f0ea03-e567-44a9-b5d8-6024228cadb5",
   "metadata": {},
   "source": [
    "## Settings"
   ]
  },
  {
   "cell_type": "code",
   "execution_count": 3,
   "id": "44a98f65-5ba7-4a84-86f1-beb03f0b644d",
   "metadata": {},
   "outputs": [],
   "source": [
    "# Define base data path\n",
    "base_path = '/scratch/tom.donoghue/'"
   ]
  },
  {
   "cell_type": "code",
   "execution_count": 4,
   "id": "951dda87-2791-46ea-bfd0-7b30a5693cba",
   "metadata": {},
   "outputs": [],
   "source": [
    "# Define subject information\n",
    "subj = 'YDR'\n",
    "session = '3'"
   ]
  },
  {
   "cell_type": "code",
   "execution_count": 5,
   "id": "1acdfe09-402e-41aa-88d3-acbdaff3e154",
   "metadata": {},
   "outputs": [],
   "source": [
    "# Initialize directory object\n",
    "db = SDB(subj, session, base_path)"
   ]
  },
  {
   "cell_type": "code",
   "execution_count": 6,
   "id": "f3a1fb49-cf0b-4325-9e77-44457111ce88",
   "metadata": {},
   "outputs": [
    {
     "data": {
      "text/plain": [
       "PosixPath('/scratch/tom.donoghue/YDR/session_3/split_files')"
      ]
     },
     "execution_count": 6,
     "metadata": {},
     "output_type": "execute_result"
    }
   ],
   "source": [
    "# Check the directory for the split files\n",
    "db.split_files"
   ]
  },
  {
   "cell_type": "code",
   "execution_count": 7,
   "id": "eed13f0d-7b78-4894-abc3-fc1605aa5041",
   "metadata": {},
   "outputs": [
    {
     "data": {
      "text/plain": [
       "PosixPath('/scratch/tom.donoghue/YDR/session_3/sorting')"
      ]
     },
     "execution_count": 7,
     "metadata": {},
     "output_type": "execute_result"
    }
   ],
   "source": [
    "db.sorting"
   ]
  },
  {
   "cell_type": "markdown",
   "id": "d7cdc713-cd6d-4c6d-bb15-525108a2b312",
   "metadata": {},
   "source": [
    "## Extract Spike times\n",
    "\n",
    "Loop through directories and extract spike time data."
   ]
  },
  {
   "cell_type": "code",
   "execution_count": 8,
   "id": "c4a51e3d-bb7e-4e2b-9bf8-e4054d0b8115",
   "metadata": {},
   "outputs": [
    {
     "name": "stdout",
     "output_type": "stream",
     "text": [
      "Processing:  chan_10  -  found clusters, extracting.\n",
      "Processing:  chan_11  -  found clusters, extracting.\n",
      "Processing:  chan_12  -  found clusters, extracting.\n",
      "Processing:  chan_13  -  found clusters, extracting.\n",
      "Processing:  chan_14  -  found clusters, extracting.\n",
      "Processing:  chan_15  -  found clusters, extracting.\n",
      "Processing:  chan_16  -  found clusters, extracting.\n",
      "Processing:  chan_17  -  found clusters, extracting.\n",
      "Processing:  chan_18  -  found clusters, extracting.\n",
      "Processing:  chan_19  -  found clusters, extracting.\n",
      "Processing:  chan_1  -  found clusters, extracting.\n",
      "Processing:  chan_20  -  found clusters, extracting.\n",
      "Processing:  chan_21  -  found clusters, extracting.\n",
      "Processing:  chan_22  -  found clusters, extracting.\n",
      "Processing:  chan_23  -  found clusters, extracting.\n",
      "Processing:  chan_24  -  found clusters, extracting.\n",
      "Processing:  chan_25  -  found clusters, extracting.\n",
      "Processing:  chan_26  -  found clusters, extracting.\n",
      "Processing:  chan_27  -  found clusters, extracting.\n",
      "Processing:  chan_28  -  found clusters, extracting.\n",
      "Processing:  chan_29  -  found clusters, extracting.\n",
      "Processing:  chan_2  -  found clusters, extracting.\n",
      "Processing:  chan_30  -  found clusters, extracting.\n",
      "Processing:  chan_31  -  found clusters, extracting.\n",
      "Processing:  chan_32  -  found clusters, extracting.\n",
      "Processing:  chan_33  -  found clusters, extracting.\n",
      "Processing:  chan_3  -  found clusters, extracting.\n",
      "Processing:  chan_41  -  found clusters, extracting.\n",
      "Processing:  chan_42  -  found clusters, extracting.\n",
      "Processing:  chan_43  -  found clusters, extracting.\n",
      "Processing:  chan_44  -  found clusters, extracting.\n",
      "Processing:  chan_45  -  found clusters, extracting.\n",
      "Processing:  chan_46  -  found clusters, extracting.\n",
      "Processing:  chan_47  -  found clusters, extracting.\n",
      "Processing:  chan_48  -  found clusters, extracting.\n",
      "Processing:  chan_49  -  found clusters, extracting.\n",
      "Processing:  chan_4  -  found clusters, extracting.\n",
      "Processing:  chan_50  -  found clusters, extracting.\n",
      "Processing:  chan_51  -  found clusters, extracting.\n",
      "Processing:  chan_52  -  found clusters, extracting.\n",
      "Processing:  chan_53  -  found clusters, extracting.\n",
      "Processing:  chan_54  -  found clusters, extracting.\n",
      "Processing:  chan_55  -  found clusters, extracting.\n",
      "Processing:  chan_5  -  found clusters, extracting.\n",
      "Processing:  chan_6  -  found clusters, extracting.\n",
      "Processing:  chan_7  -  found clusters, extracting.\n",
      "Processing:  chan_8  -  found clusters, extracting.\n",
      "Processing:  chan_9  -  found clusters, extracting.\n"
     ]
    }
   ],
   "source": [
    "ind = 0\n",
    "for subdir, dirs, files in os.walk(db.split_files):\n",
    "\n",
    "    for file in files:\n",
    "\n",
    "        if file == 'sort_cat.h5':\n",
    "\n",
    "            # Get relevant names\n",
    "            channel_name = subdir.split('/')[-2]\n",
    "            parent_directory = '/'.join((subdir.split('/')[:-1]))\n",
    "\n",
    "            # Extract the sorting results\n",
    "            sorted_data = h5py.File(os.path.join(subdir, file), 'r')\n",
    "            sorted_groups = np.array(sorted_data.get('groups'))\n",
    "            sorted_idx = np.array(sorted_data.get('index'))\n",
    "            skipped = np.where(np.diff(sorted_idx) > 1)\n",
    "            clusters = np.unique(sorted_groups[(sorted_groups[:, 1] > 0), 1])\n",
    "\n",
    "            # Get the spiking results from the raw data\n",
    "            raw_data = h5py.File(os.path.join(parent_directory, f'data_{channel_name}.h5'), 'r')\n",
    "            raw_data_neg = raw_data.get('neg')\n",
    "            spike_waveforms = np.array(raw_data_neg.get('spikes')) * 0.25 # Scale because of Blackrock\n",
    "            spike_times = np.array(raw_data_neg.get('times'))\n",
    "            spike_clusters = np.zeros(len(spike_times))\n",
    "\n",
    "            # Check for channels with no clusters detected in the channel\n",
    "            if np.size(clusters) < 1:\n",
    "                \n",
    "                cluster_msg = 'no clusters, skipping.'\n",
    "                cluster_class = [spike_clusters, spike_times]\n",
    "\n",
    "            else:\n",
    "\n",
    "                cluster_msg = 'found clusters, extracting.'\n",
    "                spike_classes = np.zeros(len(spike_times))\n",
    "\n",
    "                # Gets the classes for all the initial spikes detected\n",
    "                temp_classes = np.array(sorted_data.get('classes'))\n",
    "                valid_classes_clusters = np.squeeze(sorted_groups[np.where(sorted_groups[:, 1] > 0), :])\n",
    "\n",
    "                for k in range(len(sorted_idx)):\n",
    "\n",
    "                    spike_classes[sorted_idx[k]] = temp_classes[k]\n",
    "\n",
    "                    # If there is only one cluster\n",
    "                    if valid_classes_clusters.ndim == 1:\n",
    "\n",
    "                        if spike_classes[sorted_idx[k]] == valid_classes_clusters[0]:\n",
    "                            spike_clusters[sorted_idx[k]] = valid_classes_clusters[1]\n",
    "\n",
    "                    else:\n",
    "                        for ind in range(np.shape(valid_classes_clusters)[0]):\n",
    "                            if spike_classes[sorted_idx[k]] == valid_classes_clusters[ind, 0]:\n",
    "                                spike_clusters[sorted_idx[k]] = valid_classes_clusters[ind, 1]\n",
    "\n",
    "                # Get rid of non-sorted 'spikes'\n",
    "                if valid_classes_clusters.ndim == 1:\n",
    "                    spike_waveforms = spike_waveforms[np.in1d(spike_classes, valid_classes_clusters[0]), :]\n",
    "                    spike_times = spike_times[np.in1d(spike_classes, valid_classes_clusters[0])]\n",
    "                    spike_clusters = spike_clusters[np.in1d(spike_classes, valid_classes_clusters[0])]\n",
    "                    spike_classes = spike_classes[np.in1d(spike_classes, valid_classes_clusters[0])]\n",
    "\n",
    "                else:\n",
    "                    spike_waveforms = spike_waveforms[np.in1d(spike_classes, valid_classes_clusters[:, 0]), :]\n",
    "                    spike_times = spike_times[np.in1d(spike_classes, valid_classes_clusters[:, 0])]\n",
    "                    spike_clusters = spike_clusters[np.in1d(spike_classes, valid_classes_clusters[:, 0])]\n",
    "                    spike_classes = spike_classes[np.in1d(spike_classes, valid_classes_clusters[:, 0])]\n",
    "\n",
    "                cluster_class = [spike_clusters, spike_times]\n",
    "\n",
    "                file_name = f'times_{channel_name}_{str(ind)}.h5'\n",
    "                hf = h5py.File(str(db.sorting / file_name), 'w')\n",
    "                g1 = hf.create_group('spike_data_sorted')\n",
    "                g1.create_dataset('spike_waveforms', data=spike_waveforms)\n",
    "                g1.create_dataset('spike_times', data=spike_times)\n",
    "                g1.create_dataset('spike_clusters', data=spike_clusters)\n",
    "                g1.create_dataset('spike_classes', data=spike_classes)\n",
    "                hf.close()\n",
    "                \n",
    "                ind += 1\n",
    "                \n",
    "            # Print out status\n",
    "            print('Processing: ', channel_name, ' - ', cluster_msg)"
   ]
  },
  {
   "cell_type": "code",
   "execution_count": null,
   "id": "800912c8-1fc6-4bca-bd84-e03ebda24679",
   "metadata": {},
   "outputs": [],
   "source": []
  }
 ],
 "metadata": {
  "kernelspec": {
   "display_name": "Python 3 (ipykernel)",
   "language": "python",
   "name": "python3"
  },
  "language_info": {
   "codemirror_mode": {
    "name": "ipython",
    "version": 3
   },
   "file_extension": ".py",
   "mimetype": "text/x-python",
   "name": "python",
   "nbconvert_exporter": "python",
   "pygments_lexer": "ipython3",
   "version": "3.8.12"
  }
 },
 "nbformat": 4,
 "nbformat_minor": 5
}
