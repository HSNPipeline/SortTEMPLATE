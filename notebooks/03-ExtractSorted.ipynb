{
 "cells": [
  {
   "cell_type": "markdown",
   "id": "2682420c-766c-4a39-a1c5-2191bca40b5a",
   "metadata": {},
   "source": [
    "# Extract Spike Times\n",
    "\n",
    "Code to extract spike times from cluster files and create the 'times_' files. "
   ]
  },
  {
   "cell_type": "code",
   "execution_count": null,
   "id": "bc1c0526",
   "metadata": {},
   "outputs": [],
   "source": [
    "# ...\n",
    "from hsntools.paths import Paths"
   ]
  },
  {
   "cell_type": "code",
   "execution_count": null,
   "id": "e761bf04",
   "metadata": {},
   "outputs": [],
   "source": [
    "# Add local folder with `sort` module\n",
    "import sys\n",
    "sys.path.append('..')\n",
    "from sort.io import ..."
   ]
  },
  {
   "cell_type": "markdown",
   "id": "912b4dc9",
   "metadata": {},
   "source": [
    "## Paths & Files"
   ]
  },
  {
   "cell_type": "code",
   "execution_count": null,
   "id": "bfe85cda",
   "metadata": {},
   "outputs": [],
   "source": [
    "# Set the project path\n",
    "project_path = '/path/'"
   ]
  },
  {
   "cell_type": "code",
   "execution_count": null,
   "id": "2063e817",
   "metadata": {},
   "outputs": [],
   "source": [
    "# Define subject information\n",
    "subj = 'subjX'\n",
    "session = 'sessionX'"
   ]
  },
  {
   "cell_type": "code",
   "execution_count": null,
   "id": "5dbeee4f",
   "metadata": {},
   "outputs": [],
   "source": [
    "# Initialize paths object\n",
    "paths = Paths(project_path, subj, session)"
   ]
  },
  {
   "cell_type": "code",
   "execution_count": null,
   "id": "f05f2a51",
   "metadata": {},
   "outputs": [],
   "source": [
    "# Check the paths for the sorting folder\n",
    "paths.sorting"
   ]
  },
  {
   "cell_type": "code",
   "execution_count": null,
   "id": "f4e9a892",
   "metadata": {},
   "outputs": [],
   "source": [
    "# Check the paths for the spikes folder\n",
    "paths.spikes"
   ]
  },
  {
   "cell_type": "markdown",
   "id": "2db7e4b8",
   "metadata": {},
   "source": [
    "## Settings"
   ]
  },
  {
   "cell_type": "code",
   "execution_count": null,
   "id": "c727a2e5",
   "metadata": {},
   "outputs": [],
   "source": [
    "# Define spike sorting related settings\n",
    "polarity = 'neg'       # 'neg' / 'pos'\n",
    "user = 'xxx'           # 3 character user tag"
   ]
  },
  {
   "cell_type": "markdown",
   "id": "75db7266",
   "metadata": {},
   "source": [
    "## Extract Example Channel\n",
    "\n",
    "The following code can be used to extract units from an example channel. \n",
    "\n",
    "The outputs of this process are a hdf5 file for each unit (so there can be multiple output files per channel).\n",
    "\n",
    "This process assumes the combinato organization of data, including that the folder of interest is named by the channel label."
   ]
  },
  {
   "cell_type": "code",
   "execution_count": null,
   "id": "8cf45d48",
   "metadata": {},
   "outputs": [],
   "source": [
    "# Set example channel to run\n",
    "channel = 'XX'"
   ]
  },
  {
   "cell_type": "code",
   "execution_count": null,
   "id": "73d6e4a1",
   "metadata": {},
   "outputs": [],
   "source": [
    "# Extract the units from a single specified channel\n",
    "process_combinato_data(channel, paths.sorting, polarity, user, paths.spikes)"
   ]
  },
  {
   "cell_type": "markdown",
   "id": "51da261e",
   "metadata": {},
   "source": [
    "## Extract All Channels\n",
    "\n",
    "The following example code can used to run the extraction process across all available spike sorted channels in a specified folder.\n",
    "\n",
    "Note that this code mimics what is available in the `extract_sorted` script."
   ]
  },
  {
   "cell_type": "code",
   "execution_count": null,
   "id": "5d204e88",
   "metadata": {},
   "outputs": [],
   "source": [
    "# Extract units from all channels included in the sorting folder\n",
    "for chandir in paths.get_subfolders('sorting'):\n",
    "    print('Processing: ', chandir)\n",
    "    process_combinato_data(chandir, paths.sorting, polarity, user, paths.spikes)"
   ]
  }
 ],
 "metadata": {
  "kernelspec": {
   "display_name": "Python 3 (ipykernel)",
   "language": "python",
   "name": "python3"
  },
  "language_info": {
   "codemirror_mode": {
    "name": "ipython",
    "version": 3
   },
   "file_extension": ".py",
   "mimetype": "text/x-python",
   "name": "python",
   "nbconvert_exporter": "python",
   "pygments_lexer": "ipython3",
   "version": "3.8.3"
  }
 },
 "nbformat": 4,
 "nbformat_minor": 5
}
